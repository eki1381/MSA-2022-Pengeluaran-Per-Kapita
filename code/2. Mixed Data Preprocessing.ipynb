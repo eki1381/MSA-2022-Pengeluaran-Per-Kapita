{
 "cells": [
  {
   "cell_type": "markdown",
   "id": "fbd31fda",
   "metadata": {},
   "source": [
    "# Import libraries"
   ]
  },
  {
   "cell_type": "code",
   "execution_count": 1,
   "id": "30beccb7",
   "metadata": {},
   "outputs": [],
   "source": [
    "import pandas as pd"
   ]
  },
  {
   "cell_type": "markdown",
   "id": "51e39e9e",
   "metadata": {},
   "source": [
    "# Import Podes data and Big Data"
   ]
  },
  {
   "cell_type": "code",
   "execution_count": 2,
   "id": "4b73d7bc",
   "metadata": {},
   "outputs": [],
   "source": [
    "podes = pd.read_excel('../dataset/auxiliary/Pendataan PODES 2021/data_podes 2021_1663.xlsx')\n",
    "bigdata = pd.read_csv('../dataset/auxiliary/Big Data/auxiliary.csv')"
   ]
  },
  {
   "cell_type": "code",
   "execution_count": 3,
   "id": "393c01d7",
   "metadata": {},
   "outputs": [],
   "source": [
    "auxiliary = podes.merge(bigdata, left_on = 'Kecamatan', right_on = 'Kecamatan', how = 'left')\n",
    "auxiliary.to_csv('../dataset/auxiliary/auxiliary.csv', index = False)"
   ]
  }
 ],
 "metadata": {
  "kernelspec": {
   "display_name": "Python 3",
   "language": "python",
   "name": "python3"
  },
  "language_info": {
   "codemirror_mode": {
    "name": "ipython",
    "version": 3
   },
   "file_extension": ".py",
   "mimetype": "text/x-python",
   "name": "python",
   "nbconvert_exporter": "python",
   "pygments_lexer": "ipython3",
   "version": "3.8.8"
  }
 },
 "nbformat": 4,
 "nbformat_minor": 5
}
