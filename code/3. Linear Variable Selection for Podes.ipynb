{
 "cells": [
  {
   "cell_type": "markdown",
   "id": "623c7c23",
   "metadata": {},
   "source": [
    "# Variable Selection for Global Linear Regression"
   ]
  },
  {
   "cell_type": "code",
   "execution_count": 1,
   "id": "4d9369e5",
   "metadata": {},
   "outputs": [],
   "source": [
    "import pandas as pd\n",
    "from sklearn.linear_model import LinearRegression\n",
    "from feature_engine.selection import RecursiveFeatureElimination\n",
    "from feature_engine.selection import SmartCorrelatedSelection\n",
    "from feature_engine.selection import DropConstantFeatures\n",
    "from sklearn.preprocessing import StandardScaler"
   ]
  },
  {
   "cell_type": "code",
   "execution_count": 2,
   "id": "31d0426a-8239-4f6a-9e75-e4352d99c0cc",
   "metadata": {},
   "outputs": [],
   "source": [
    "indikator = pd.read_csv('../dataset/indikator/DE_INDIKATOR3.csv', sep = ';')\n",
    "auxiliary = pd.read_excel('../dataset/auxiliary/Pendataan PODES 2021/data_podes 2021_1663.xlsx')"
   ]
  },
  {
   "cell_type": "code",
   "execution_count": 3,
   "id": "82bc6cd3",
   "metadata": {},
   "outputs": [],
   "source": [
    "kecamatan = auxiliary['Kecamatan']\n",
    "auxiliary = auxiliary.dropna(axis = 1)\n",
    "\n",
    "column = auxiliary.columns\n",
    "scaler = StandardScaler()\n",
    "auxiliary = scaler.fit_transform(auxiliary)\n",
    "auxiliary = pd.DataFrame(auxiliary, columns = column)\n",
    "\n",
    "auxiliary = auxiliary.drop(['Kecamatan'], axis = 1)\n",
    "auxiliary = pd.concat([kecamatan, auxiliary], axis = 1)"
   ]
  },
  {
   "cell_type": "code",
   "execution_count": 4,
   "id": "16ac4050-6180-4013-97b5-49b65e16e426",
   "metadata": {},
   "outputs": [],
   "source": [
    "dataset = indikator.merge(auxiliary, left_on = 'Kecamatan', right_on = 'Kecamatan', how = 'left')\n",
    "dataset_1 = dataset.drop(['Unnamed: 0', 'Provinsi', 'Kecamatan', 'SE', 'VAR', 'CI LOWER', 'CI UPPER', 'RSE', 'DEFF', 'r101', 'r102', 'r103'], axis = 1)"
   ]
  },
  {
   "cell_type": "code",
   "execution_count": 5,
   "id": "9cc588f6-27c1-42cc-92db-f6d90c1a4d85",
   "metadata": {},
   "outputs": [],
   "source": [
    "y = dataset_1['Rata2 Kapita']\n",
    "X = dataset_1.drop(['Rata2 Kapita'], axis = 1)"
   ]
  },
  {
   "cell_type": "code",
   "execution_count": 6,
   "id": "3e5f49d5",
   "metadata": {},
   "outputs": [],
   "source": [
    "tr = DropConstantFeatures(tol=0.7)\n",
    "Xt = tr.fit_transform(X)"
   ]
  },
  {
   "cell_type": "code",
   "execution_count": 7,
   "id": "68730fcc",
   "metadata": {},
   "outputs": [],
   "source": [
    "tr = SmartCorrelatedSelection(\n",
    "    method=\"pearson\",\n",
    "    threshold=0.8,\n",
    "    selection_method=\"variance\",\n",
    ")\n",
    "Xt = tr.fit_transform(Xt)"
   ]
  },
  {
   "cell_type": "code",
   "execution_count": 8,
   "id": "2ca1058d-2717-4121-b9d8-338e3916f4c0",
   "metadata": {},
   "outputs": [],
   "source": [
    "regressor = LinearRegression()\n",
    "tr = RecursiveFeatureElimination(estimator = regressor, scoring='neg_root_mean_squared_error', cv = 5)\n",
    "Xt = tr.fit_transform(Xt, y)\n",
    "Xt.to_csv('../dataset/auxiliary/Pendataan PODES 2021/auxiliary_linear_transformed.csv', index = False)"
   ]
  },
  {
   "cell_type": "markdown",
   "id": "52ce4b89",
   "metadata": {},
   "source": [
    "# Variable Selection for Sumsel Linear Regression"
   ]
  },
  {
   "cell_type": "code",
   "execution_count": 9,
   "id": "98ff4cd6",
   "metadata": {},
   "outputs": [],
   "source": [
    "indikator = pd.read_csv('../dataset/indikator/DE_INDIKATOR3.csv', sep = ';')\n",
    "auxiliary = pd.read_excel('../dataset/auxiliary/Pendataan PODES 2021/data_podes 2021_1663.xlsx')"
   ]
  },
  {
   "cell_type": "code",
   "execution_count": 10,
   "id": "a2662fe8",
   "metadata": {},
   "outputs": [],
   "source": [
    "kecamatan = auxiliary['Kecamatan']\n",
    "auxiliary = auxiliary.dropna(axis = 1)\n",
    "\n",
    "column = auxiliary.columns\n",
    "scaler = StandardScaler()\n",
    "auxiliary = scaler.fit_transform(auxiliary)\n",
    "auxiliary = pd.DataFrame(auxiliary, columns = column)\n",
    "\n",
    "auxiliary = auxiliary.drop(['Kecamatan'], axis = 1)\n",
    "auxiliary = pd.concat([kecamatan, auxiliary], axis = 1)"
   ]
  },
  {
   "cell_type": "code",
   "execution_count": 11,
   "id": "0f6ec0f8",
   "metadata": {},
   "outputs": [],
   "source": [
    "dataset = indikator.merge(auxiliary, left_on = 'Kecamatan', right_on = 'Kecamatan', how = 'left')\n",
    "dataset = dataset[dataset['Provinsi'] == 16] \n",
    "dataset_1 = dataset.drop(['Unnamed: 0', 'Provinsi', 'Kecamatan', 'SE', 'VAR', 'CI LOWER', 'CI UPPER', 'RSE', 'DEFF', 'r101', 'r102', 'r103'], axis = 1)"
   ]
  },
  {
   "cell_type": "code",
   "execution_count": 12,
   "id": "79cad9cd",
   "metadata": {},
   "outputs": [],
   "source": [
    "y = dataset_1['Rata2 Kapita']\n",
    "X = dataset_1.drop(['Rata2 Kapita'], axis = 1)"
   ]
  },
  {
   "cell_type": "code",
   "execution_count": 13,
   "id": "fbe73051",
   "metadata": {},
   "outputs": [],
   "source": [
    "tr = DropConstantFeatures(tol=0.7)\n",
    "Xt = tr.fit_transform(X)"
   ]
  },
  {
   "cell_type": "code",
   "execution_count": 14,
   "id": "f5439e32",
   "metadata": {},
   "outputs": [],
   "source": [
    "tr = SmartCorrelatedSelection(\n",
    "    method=\"pearson\",\n",
    "    threshold=0.8,\n",
    "    selection_method=\"variance\",\n",
    ")\n",
    "Xt = tr.fit_transform(Xt)"
   ]
  },
  {
   "cell_type": "code",
   "execution_count": 15,
   "id": "7dd9d74c",
   "metadata": {},
   "outputs": [],
   "source": [
    "regressor = LinearRegression()\n",
    "tr = RecursiveFeatureElimination(estimator = regressor, scoring='neg_root_mean_squared_error', cv = 5)\n",
    "Xt = tr.fit_transform(Xt, y)\n",
    "Xt.to_csv('../dataset/auxiliary/Pendataan PODES 2021/auxiliary_sumsel_linear_transformed.csv', index = False)"
   ]
  },
  {
   "cell_type": "markdown",
   "id": "72a19888",
   "metadata": {},
   "source": [
    "# Variable Selection for Kalsel Linear Regression"
   ]
  },
  {
   "cell_type": "code",
   "execution_count": 16,
   "id": "d16bab74",
   "metadata": {},
   "outputs": [],
   "source": [
    "indikator = pd.read_csv('../dataset/indikator/DE_INDIKATOR3.csv', sep = ';')\n",
    "auxiliary = pd.read_excel('../dataset/auxiliary/Pendataan PODES 2021/data_podes 2021_1663.xlsx')"
   ]
  },
  {
   "cell_type": "code",
   "execution_count": 17,
   "id": "0e647136",
   "metadata": {},
   "outputs": [],
   "source": [
    "kecamatan = auxiliary['Kecamatan']\n",
    "auxiliary = auxiliary.dropna(axis = 1)\n",
    "\n",
    "column = auxiliary.columns\n",
    "scaler = StandardScaler()\n",
    "auxiliary = scaler.fit_transform(auxiliary)\n",
    "auxiliary = pd.DataFrame(auxiliary, columns = column)\n",
    "\n",
    "auxiliary = auxiliary.drop(['Kecamatan'], axis = 1)\n",
    "auxiliary = pd.concat([kecamatan, auxiliary], axis = 1)"
   ]
  },
  {
   "cell_type": "code",
   "execution_count": 18,
   "id": "c6bc21b4",
   "metadata": {},
   "outputs": [],
   "source": [
    "dataset = indikator.merge(auxiliary, left_on = 'Kecamatan', right_on = 'Kecamatan', how = 'left')\n",
    "dataset = dataset[dataset['Provinsi'] == 63] \n",
    "dataset_1 = dataset.drop(['Unnamed: 0', 'Provinsi', 'Kecamatan', 'SE', 'VAR', 'CI LOWER', 'CI UPPER', 'RSE', 'DEFF', 'r101', 'r102', 'r103'], axis = 1)"
   ]
  },
  {
   "cell_type": "code",
   "execution_count": 19,
   "id": "5629ec02",
   "metadata": {},
   "outputs": [],
   "source": [
    "y = dataset_1['Rata2 Kapita']\n",
    "X = dataset_1.drop(['Rata2 Kapita'], axis = 1)"
   ]
  },
  {
   "cell_type": "code",
   "execution_count": 20,
   "id": "b1bf8ff5",
   "metadata": {},
   "outputs": [],
   "source": [
    "tr = DropConstantFeatures(tol=0.7)\n",
    "Xt = tr.fit_transform(X)"
   ]
  },
  {
   "cell_type": "code",
   "execution_count": 21,
   "id": "1d7a6290",
   "metadata": {},
   "outputs": [],
   "source": [
    "tr = SmartCorrelatedSelection(\n",
    "    method=\"pearson\",\n",
    "    threshold=0.8,\n",
    "    selection_method=\"variance\",\n",
    ")\n",
    "Xt = tr.fit_transform(Xt)"
   ]
  },
  {
   "cell_type": "code",
   "execution_count": 22,
   "id": "143e08dd",
   "metadata": {},
   "outputs": [],
   "source": [
    "regressor = LinearRegression()\n",
    "tr = RecursiveFeatureElimination(estimator = regressor, scoring='neg_root_mean_squared_error', cv = 5)\n",
    "Xt = tr.fit_transform(Xt, y)\n",
    "Xt.to_csv('../dataset/auxiliary/Pendataan PODES 2021/auxiliary_kalsel_linear_transformed.csv', index = False)"
   ]
  }
 ],
 "metadata": {
  "kernelspec": {
   "display_name": "Python 3",
   "language": "python",
   "name": "python3"
  },
  "language_info": {
   "codemirror_mode": {
    "name": "ipython",
    "version": 3
   },
   "file_extension": ".py",
   "mimetype": "text/x-python",
   "name": "python",
   "nbconvert_exporter": "python",
   "pygments_lexer": "ipython3",
   "version": "3.8.8"
  }
 },
 "nbformat": 4,
 "nbformat_minor": 5
}
