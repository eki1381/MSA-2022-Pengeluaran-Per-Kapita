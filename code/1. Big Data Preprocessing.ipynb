{
 "cells": [
  {
   "cell_type": "markdown",
   "id": "85880f0e",
   "metadata": {},
   "source": [
    "# Import libraries"
   ]
  },
  {
   "cell_type": "code",
   "execution_count": 1,
   "id": "ca97ed07",
   "metadata": {},
   "outputs": [],
   "source": [
    "import pandas as pd\n",
    "from feature_engine.selection import RecursiveFeatureElimination\n",
    "from feature_engine.selection import DropCorrelatedFeatures\n",
    "from feature_engine.selection import DropConstantFeatures"
   ]
  },
  {
   "cell_type": "markdown",
   "id": "addeafa8",
   "metadata": {},
   "source": [
    "# Preprocess Water Index"
   ]
  },
  {
   "cell_type": "code",
   "execution_count": 2,
   "id": "113d5ee7",
   "metadata": {},
   "outputs": [],
   "source": [
    "mndwi_sumsel = pd.read_csv('../dataset/auxiliary/Big Data/Indeks Air/MNDWI/MNDWI_sumsel.csv', sep = ';')\n",
    "mndwi_kalsel = pd.read_csv('../dataset/auxiliary/Big Data/Indeks Air/MNDWI/MNDWI_kalsel.csv', sep = ';')\n",
    "mndwi = pd.concat([mndwi_sumsel, mndwi_kalsel], axis = 0)\n",
    "\n",
    "ndwi_sumsel = pd.read_csv('../dataset/auxiliary/Big Data/Indeks Air/NDWI/NDWI_sumsel.csv', sep = ';')\n",
    "ndwi_kalsel = pd.read_csv('../dataset/auxiliary/Big Data/Indeks Air/NDWI/NDWI_kalsel.csv', sep = ';')\n",
    "ndwi = pd.concat([ndwi_sumsel, ndwi_kalsel], axis = 0)"
   ]
  },
  {
   "cell_type": "markdown",
   "id": "7e2f9681",
   "metadata": {},
   "source": [
    "# Preprocess Built Index"
   ]
  },
  {
   "cell_type": "code",
   "execution_count": 3,
   "id": "c916a2c8",
   "metadata": {},
   "outputs": [],
   "source": [
    "bui_sumsel = pd.read_csv('../dataset/auxiliary/Big Data/Indeks Keterbangunan/BUI/BUI_sumsel.csv', sep = ';')\n",
    "bui_kalsel = pd.read_csv('../dataset/auxiliary/Big Data/Indeks Keterbangunan/BUI/BUI_kalsel.csv', sep = ';')\n",
    "bui = pd.concat([bui_sumsel, bui_kalsel], axis = 0)\n",
    "\n",
    "ndbi_sumsel = pd.read_csv('../dataset/auxiliary/Big Data/Indeks Keterbangunan/NDBI/NDBI_sumsel.csv', sep = ';')\n",
    "ndbi_kalsel = pd.read_csv('../dataset/auxiliary/Big Data/Indeks Keterbangunan/NDBI/NDBI_kalsel.csv', sep = ';')\n",
    "ndbi = pd.concat([ndbi_sumsel, ndbi_kalsel], axis = 0)\n",
    "\n",
    "ndti_sumsel = pd.read_csv('../dataset/auxiliary/Big Data/Indeks Keterbangunan/NDTI/NDTI_sumsel.csv', sep = ';')\n",
    "ndti_kalsel = pd.read_csv('../dataset/auxiliary/Big Data/Indeks Keterbangunan/NDTI/NDTI_kalsel.csv', sep = ';')\n",
    "ndti = pd.concat([ndti_sumsel, ndti_kalsel], axis = 0)\n",
    "\n",
    "ui_sumsel = pd.read_csv('../dataset/auxiliary/Big Data/Indeks Keterbangunan/UI/UI_sumsel.csv', sep = ';')\n",
    "ui_kalsel = pd.read_csv('../dataset/auxiliary/Big Data/Indeks Keterbangunan/UI/UI_kalsel.csv', sep = ';')\n",
    "ui = pd.concat([ui_sumsel, ui_kalsel], axis = 0)\n",
    "\n",
    "vibi_sumsel = pd.read_csv('../dataset/auxiliary/Big Data/Indeks Keterbangunan/VIBI/VIBI_sumsel.csv', sep = ';')\n",
    "vibi_kalsel = pd.read_csv('../dataset/auxiliary/Big Data/Indeks Keterbangunan/VIBI/VIBI_kalsel.csv', sep = ';')\n",
    "vibi = pd.concat([vibi_sumsel, vibi_kalsel], axis = 0)"
   ]
  },
  {
   "cell_type": "markdown",
   "id": "2624d779",
   "metadata": {},
   "source": [
    "# Preprocess Vegetation Index"
   ]
  },
  {
   "cell_type": "code",
   "execution_count": 4,
   "id": "51ed32ff",
   "metadata": {},
   "outputs": [],
   "source": [
    "arvi_sumsel = pd.read_csv('../dataset/auxiliary/Big Data/Indeks Vegetasi/ARVI/ARVI_sumsel.csv', sep = ';')\n",
    "arvi_kalsel = pd.read_csv('../dataset/auxiliary/Big Data/Indeks Vegetasi/ARVI/ARVI_kalsel.csv', sep = ';')\n",
    "arvi = pd.concat([arvi_sumsel, arvi_kalsel], axis = 0)\n",
    "\n",
    "evi_sumsel = pd.read_csv('../dataset/auxiliary/Big Data/Indeks Vegetasi/EVI/EVI_sumsel.csv', sep = ';')\n",
    "evi_kalsel = pd.read_csv('../dataset/auxiliary/Big Data/Indeks Vegetasi/EVI/EVI_kalsel.csv', sep = ';')\n",
    "evi = pd.concat([evi_sumsel, evi_kalsel], axis = 0)\n",
    "\n",
    "gndvi_sumsel = pd.read_csv('../dataset/auxiliary/Big Data/Indeks Vegetasi/GNDVI/GNDVI_sumsel.csv', sep = ';')\n",
    "gndvi_kalsel = pd.read_csv('../dataset/auxiliary/Big Data/Indeks Vegetasi/GNDVI/GNDVI_kalsel.csv', sep = ';')\n",
    "gndvi = pd.concat([gndvi_sumsel, gndvi_kalsel], axis = 0)\n",
    "\n",
    "lai_sumsel = pd.read_csv('../dataset/auxiliary/Big Data/Indeks Vegetasi/LAI/LAI_sumsel.csv', sep = ';')\n",
    "lai_kalsel = pd.read_csv('../dataset/auxiliary/Big Data/Indeks Vegetasi/LAI/LAI_kalsel.csv', sep = ';')\n",
    "lai = pd.concat([lai_sumsel, lai_kalsel], axis = 0)\n",
    "\n",
    "ndvi_sumsel = pd.read_csv('../dataset/auxiliary/Big Data/Indeks Vegetasi/NDVI/NDVI_sumsel.csv', sep = ';')\n",
    "ndvi_kalsel = pd.read_csv('../dataset/auxiliary/Big Data/Indeks Vegetasi/NDVI/NDVI_kalsel.csv', sep = ';')\n",
    "ndvi = pd.concat([ndvi_sumsel, ndvi_kalsel], axis = 0)\n",
    "\n",
    "savi_sumsel = pd.read_csv('../dataset/auxiliary/Big Data/Indeks Vegetasi/SAVI/SAVI_sumsel.csv', sep = ';')\n",
    "savi_kalsel = pd.read_csv('../dataset/auxiliary/Big Data/Indeks Vegetasi/SAVI/SAVI_kalsel.csv', sep = ';')\n",
    "savi = pd.concat([savi_sumsel, savi_kalsel], axis = 0)\n",
    "\n",
    "sipi_sumsel = pd.read_csv('../dataset/auxiliary/Big Data/Indeks Vegetasi/SIPI/SIPI_sumsel.csv', sep = ';')\n",
    "sipi_kalsel = pd.read_csv('../dataset/auxiliary/Big Data/Indeks Vegetasi/SIPI/SIPI_kalsel.csv', sep = ';')\n",
    "sipi = pd.concat([sipi_sumsel, sipi_kalsel], axis = 0)"
   ]
  },
  {
   "cell_type": "markdown",
   "id": "72ef47b0",
   "metadata": {},
   "source": [
    "# Preprocess Infrastructure"
   ]
  },
  {
   "cell_type": "code",
   "execution_count": 5,
   "id": "7892c533",
   "metadata": {},
   "outputs": [],
   "source": [
    "jml_jln_sumsel = pd.read_csv('../dataset/auxiliary/Big Data/Infrastruktur/Jumlah Jalan/jumlah_jalan_sumsel.csv', sep = ';')\n",
    "jml_jln_kalsel = pd.read_csv('../dataset/auxiliary/Big Data/Infrastruktur/Jumlah Jalan/jumlah_jalan_kalsel.csv', sep = ';')\n",
    "jml_jln = pd.concat([jml_jln_sumsel, jml_jln_kalsel], axis = 0)\n",
    "\n",
    "pjg_jln_sumsel = pd.read_csv('../dataset/auxiliary/Big Data/Infrastruktur/Panjang Jalan/panjang_jalan_sumsel.csv', sep = ';')\n",
    "pjg_jln_kalsel = pd.read_csv('../dataset/auxiliary/Big Data/Infrastruktur/Panjang Jalan/panjang_jalan_kalsel.csv', sep = ';')\n",
    "pjg_jln = pd.concat([pjg_jln_sumsel, pjg_jln_kalsel], axis = 0)"
   ]
  },
  {
   "cell_type": "markdown",
   "id": "406df340",
   "metadata": {},
   "source": [
    "# Preprocess Nightlight Radiance"
   ]
  },
  {
   "cell_type": "code",
   "execution_count": 6,
   "id": "b0c1343a",
   "metadata": {},
   "outputs": [],
   "source": [
    "ntl_sumsel = pd.read_csv('../dataset/auxiliary/Big Data/Nightlight Radiance/NTL_sumsel.csv', sep = ';')\n",
    "ntl_kalsel = pd.read_csv('../dataset/auxiliary/Big Data/Nightlight Radiance/NTL_kalsel.csv', sep = ';')\n",
    "ntl = pd.concat([ntl_sumsel, ntl_kalsel], axis = 0)"
   ]
  },
  {
   "cell_type": "markdown",
   "id": "da7d0600",
   "metadata": {},
   "source": [
    "# Preprocess Polution"
   ]
  },
  {
   "cell_type": "code",
   "execution_count": 7,
   "id": "07bef503",
   "metadata": {},
   "outputs": [],
   "source": [
    "co_sumsel = pd.read_csv('../dataset/auxiliary/Big Data/Polusi/CO/CO_sumsel.csv', sep = ';')\n",
    "co_kalsel = pd.read_csv('../dataset/auxiliary/Big Data/Polusi/CO/CO_kalsel.csv', sep = ';')\n",
    "co = pd.concat([co_sumsel, co_kalsel], axis = 0)\n",
    "\n",
    "h2o_sumsel = pd.read_csv('../dataset/auxiliary/Big Data/Polusi/H2O/H2O_sumsel.csv', sep = ';')\n",
    "h2o_kalsel = pd.read_csv('../dataset/auxiliary/Big Data/Polusi/H2O/H2O_kalsel.csv', sep = ';')\n",
    "h2o = pd.concat([h2o_sumsel, h2o_kalsel], axis = 0)\n",
    "\n",
    "no2_sumsel = pd.read_csv('../dataset/auxiliary/Big Data/Polusi/NO2/NO2_sumsel.csv', sep = ';')\n",
    "no2_kalsel = pd.read_csv('../dataset/auxiliary/Big Data/Polusi/NO2/NO2_kalsel.csv', sep = ';')\n",
    "no2 = pd.concat([no2_sumsel, no2_kalsel], axis = 0)\n",
    "\n",
    "so2_sumsel = pd.read_csv('../dataset/auxiliary/Big Data/Polusi/SO2/SO2_sumsel.csv', sep = ';')\n",
    "so2_kalsel = pd.read_csv('../dataset/auxiliary/Big Data/Polusi/SO2/SO2_kalsel.csv', sep = ';')\n",
    "so2 = pd.concat([so2_sumsel, so2_kalsel], axis = 0)"
   ]
  },
  {
   "cell_type": "markdown",
   "id": "16fc2c8b",
   "metadata": {},
   "source": [
    "# Preprocess RWI"
   ]
  },
  {
   "cell_type": "code",
   "execution_count": 8,
   "id": "33cda189",
   "metadata": {},
   "outputs": [],
   "source": [
    "rwi_sumsel = pd.read_csv('../dataset/auxiliary/Big Data/RWI/rwi_sumsel.csv', sep = ';')\n",
    "rwi_kalsel = pd.read_csv('../dataset/auxiliary/Big Data/RWI/rwi_kalsel.csv', sep = ';')\n",
    "rwi = pd.concat([rwi_sumsel, rwi_kalsel], axis = 0)"
   ]
  },
  {
   "cell_type": "markdown",
   "id": "4f8ebc11",
   "metadata": {},
   "source": [
    "# Preprocess Climate"
   ]
  },
  {
   "cell_type": "code",
   "execution_count": 9,
   "id": "7b079920",
   "metadata": {},
   "outputs": [],
   "source": [
    "lst_sumsel = pd.read_csv('../dataset/auxiliary/Big Data/Temperatur Udara/LST/LST_sumsel.csv', sep = ';')\n",
    "lst_kalsel = pd.read_csv('../dataset/auxiliary/Big Data/Temperatur Udara/LST/LST_kalsel.csv', sep = ';')\n",
    "lst = pd.concat([lst_sumsel, lst_kalsel], axis = 0)\n",
    "\n",
    "prec_sumsel = pd.read_csv('../dataset/auxiliary/Big Data/Temperatur Udara/PREC/PREC_sumsel.csv', sep = ';')\n",
    "prec_kalsel = pd.read_csv('../dataset/auxiliary/Big Data/Temperatur Udara/PREC/PREC_kalsel.csv', sep = ';')\n",
    "prec = pd.concat([prec_sumsel, prec_kalsel], axis = 0)"
   ]
  },
  {
   "cell_type": "markdown",
   "id": "5848676e",
   "metadata": {},
   "source": [
    "# Preprocess Land Cover"
   ]
  },
  {
   "cell_type": "code",
   "execution_count": 10,
   "id": "cd2a81b6",
   "metadata": {},
   "outputs": [],
   "source": [
    "sum_esa_sumsel = pd.read_csv('../dataset/auxiliary/Big Data/Tutupan Lahan/jumlah_tutupanlahan_by_esa_sumsel.csv', sep = ';')\n",
    "sum_esa_kalsel = pd.read_csv('../dataset/auxiliary/Big Data/Tutupan Lahan/jumlah_tutupanlahan_by_esa_kalsel.csv', sep = ';')\n",
    "sum_esa = pd.concat([sum_esa_sumsel, sum_esa_kalsel], axis = 0)\n",
    "\n",
    "perc_esa_sumsel = pd.read_csv('../dataset/auxiliary/Big Data/Tutupan Lahan/persen_tutupanlahan_by_esa_sumsel.csv', sep = ';')\n",
    "perc_esa_kalsel = pd.read_csv('../dataset/auxiliary/Big Data/Tutupan Lahan/persen_tutupanlahan_by_esa_kalsel.csv', sep = ';')\n",
    "perc_esa = pd.concat([perc_esa_sumsel, perc_esa_kalsel], axis = 0)\n",
    "\n",
    "sum_esri_sumsel = pd.read_csv('../dataset/auxiliary/Big Data/Tutupan Lahan/jumlah_tutupanlahan_by_esri_sumsel.csv', sep = ';')\n",
    "sum_esri_kalsel = pd.read_csv('../dataset/auxiliary/Big Data/Tutupan Lahan/jumlah_tutupanlahan_by_esri_kalsel.csv', sep = ';')\n",
    "sum_esri = pd.concat([sum_esri_sumsel, sum_esri_kalsel], axis = 0)\n",
    "\n",
    "perc_esri_sumsel = pd.read_csv('../dataset/auxiliary/Big Data/Tutupan Lahan/persen_tutupanlahan_by_esri_sumsel.csv', sep = ';')\n",
    "perc_esri_kalsel = pd.read_csv('../dataset/auxiliary/Big Data/Tutupan Lahan/persen_tutupanlahan_by_esri_kalsel.csv', sep = ';')\n",
    "perc_esri = pd.concat([perc_esri_sumsel, perc_esri_kalsel], axis = 0)"
   ]
  },
  {
   "cell_type": "markdown",
   "id": "6f023fa6",
   "metadata": {},
   "source": [
    "# Merge all file"
   ]
  },
  {
   "cell_type": "code",
   "execution_count": 11,
   "id": "de080ce0",
   "metadata": {},
   "outputs": [
    {
     "name": "stderr",
     "output_type": "stream",
     "text": [
      "<ipython-input-11-fc330367b191>:3: FutureWarning: Passing 'suffixes' which cause duplicate columns {'nmkec_x'} in the result is deprecated and will raise a MergeError in a future version.\n",
      "  aux_big_data = aux_big_data.merge(ndbi, left_on='idkec', right_on='idkec')\n",
      "<ipython-input-11-fc330367b191>:5: FutureWarning: Passing 'suffixes' which cause duplicate columns {'nmkec_x'} in the result is deprecated and will raise a MergeError in a future version.\n",
      "  aux_big_data = aux_big_data.merge(ui, left_on='idkec', right_on='idkec')\n",
      "<ipython-input-11-fc330367b191>:7: FutureWarning: Passing 'suffixes' which cause duplicate columns {'nmkec_x'} in the result is deprecated and will raise a MergeError in a future version.\n",
      "  aux_big_data = aux_big_data.merge(arvi, left_on='idkec', right_on='idkec')\n",
      "<ipython-input-11-fc330367b191>:9: FutureWarning: Passing 'suffixes' which cause duplicate columns {'nmkec_x'} in the result is deprecated and will raise a MergeError in a future version.\n",
      "  aux_big_data = aux_big_data.merge(gndvi, left_on='idkec', right_on='idkec')\n",
      "<ipython-input-11-fc330367b191>:11: FutureWarning: Passing 'suffixes' which cause duplicate columns {'nmkec_x'} in the result is deprecated and will raise a MergeError in a future version.\n",
      "  aux_big_data = aux_big_data.merge(ndvi, left_on='idkec', right_on='idkec')\n",
      "<ipython-input-11-fc330367b191>:13: FutureWarning: Passing 'suffixes' which cause duplicate columns {'nmkec_x'} in the result is deprecated and will raise a MergeError in a future version.\n",
      "  aux_big_data = aux_big_data.merge(sipi, left_on='idkec', right_on='idkec')\n",
      "<ipython-input-11-fc330367b191>:15: FutureWarning: Passing 'suffixes' which cause duplicate columns {'nmkec_x'} in the result is deprecated and will raise a MergeError in a future version.\n",
      "  aux_big_data = aux_big_data.merge(pjg_jln, left_on='idkec', right_on='idkec')\n",
      "<ipython-input-11-fc330367b191>:18: FutureWarning: Passing 'suffixes' which cause duplicate columns {'nmkec_x'} in the result is deprecated and will raise a MergeError in a future version.\n",
      "  aux_big_data = aux_big_data.merge(h2o, left_on='idkec', right_on='idkec')\n",
      "<ipython-input-11-fc330367b191>:20: FutureWarning: Passing 'suffixes' which cause duplicate columns {'nmkec_x'} in the result is deprecated and will raise a MergeError in a future version.\n",
      "  aux_big_data = aux_big_data.merge(so2, left_on='idkec', right_on='idkec')\n",
      "<ipython-input-11-fc330367b191>:23: FutureWarning: Passing 'suffixes' which cause duplicate columns {'nmkec_x'} in the result is deprecated and will raise a MergeError in a future version.\n",
      "  aux_big_data = aux_big_data.merge(prec, left_on='idkec', right_on='idkec')\n",
      "<ipython-input-11-fc330367b191>:25: FutureWarning: Passing 'suffixes' which cause duplicate columns {'nmkec_x'} in the result is deprecated and will raise a MergeError in a future version.\n",
      "  aux_big_data = aux_big_data.merge(perc_esa, left_on='idkec', right_on='idkec')\n",
      "<ipython-input-11-fc330367b191>:27: FutureWarning: Passing 'suffixes' which cause duplicate columns {'nmkec_x', 'Trees_x'} in the result is deprecated and will raise a MergeError in a future version.\n",
      "  aux_big_data = aux_big_data.merge(perc_esri, left_on='idkec', right_on='idkec')\n"
     ]
    }
   ],
   "source": [
    "aux_big_data = mndwi.merge(ndwi, left_on='idkec', right_on='idkec')\n",
    "aux_big_data = aux_big_data.merge(bui, left_on='idkec', right_on='idkec')\n",
    "aux_big_data = aux_big_data.merge(ndbi, left_on='idkec', right_on='idkec')\n",
    "aux_big_data = aux_big_data.merge(ndti, left_on='idkec', right_on='idkec')\n",
    "aux_big_data = aux_big_data.merge(ui, left_on='idkec', right_on='idkec')\n",
    "aux_big_data = aux_big_data.merge(vibi, left_on='idkec', right_on='idkec')\n",
    "aux_big_data = aux_big_data.merge(arvi, left_on='idkec', right_on='idkec')\n",
    "aux_big_data = aux_big_data.merge(evi, left_on='idkec', right_on='idkec')\n",
    "aux_big_data = aux_big_data.merge(gndvi, left_on='idkec', right_on='idkec')\n",
    "aux_big_data = aux_big_data.merge(lai, left_on='idkec', right_on='idkec')\n",
    "aux_big_data = aux_big_data.merge(ndvi, left_on='idkec', right_on='idkec')\n",
    "aux_big_data = aux_big_data.merge(savi, left_on='idkec', right_on='idkec')\n",
    "aux_big_data = aux_big_data.merge(sipi, left_on='idkec', right_on='idkec')\n",
    "aux_big_data = aux_big_data.merge(jml_jln, left_on='idkec', right_on='idkec')\n",
    "aux_big_data = aux_big_data.merge(pjg_jln, left_on='idkec', right_on='idkec')\n",
    "aux_big_data = aux_big_data.merge(ntl, left_on='idkec', right_on='idkec')\n",
    "aux_big_data = aux_big_data.merge(co, left_on='idkec', right_on='idkec')\n",
    "aux_big_data = aux_big_data.merge(h2o, left_on='idkec', right_on='idkec')\n",
    "aux_big_data = aux_big_data.merge(no2, left_on='idkec', right_on='idkec')\n",
    "aux_big_data = aux_big_data.merge(so2, left_on='idkec', right_on='idkec')\n",
    "aux_big_data = aux_big_data.merge(rwi, left_on='idkec', right_on='geo_id')\n",
    "aux_big_data = aux_big_data.merge(lst, left_on='idkec', right_on='idkec')\n",
    "aux_big_data = aux_big_data.merge(prec, left_on='idkec', right_on='idkec')\n",
    "aux_big_data = aux_big_data.merge(sum_esa, left_on='idkec', right_on='idkec')\n",
    "aux_big_data = aux_big_data.merge(perc_esa, left_on='idkec', right_on='idkec')\n",
    "aux_big_data = aux_big_data.merge(sum_esri, left_on='idkec', right_on='idkec')\n",
    "aux_big_data = aux_big_data.merge(perc_esri, left_on='idkec', right_on='idkec')"
   ]
  },
  {
   "cell_type": "code",
   "execution_count": 12,
   "id": "53754396",
   "metadata": {
    "scrolled": true
   },
   "outputs": [],
   "source": [
    "aux_big_data = aux_big_data.drop(['nmkec_x', 'nmkec_y'], axis = 1)\n",
    "aux_big_data = aux_big_data.rename(columns={\"idkec\": \"Kecamatan\"})\n",
    "aux_big_data.to_csv('../dataset/auxiliary/Big Data/auxiliary.csv', index = False)"
   ]
  }
 ],
 "metadata": {
  "kernelspec": {
   "display_name": "Python 3",
   "language": "python",
   "name": "python3"
  },
  "language_info": {
   "codemirror_mode": {
    "name": "ipython",
    "version": 3
   },
   "file_extension": ".py",
   "mimetype": "text/x-python",
   "name": "python",
   "nbconvert_exporter": "python",
   "pygments_lexer": "ipython3",
   "version": "3.8.8"
  }
 },
 "nbformat": 4,
 "nbformat_minor": 5
}
